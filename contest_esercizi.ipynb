{
 "cells": [
  {
   "cell_type": "markdown",
   "id": "82be25b5-c13e-46fe-9622-eba3bce2bc6c",
   "metadata": {},
   "source": [
    "### Esercizio numero 1"
   ]
  },
  {
   "cell_type": "code",
   "execution_count": 1,
   "id": "55db0b52-03d4-44d8-a2b0-e9b6d0191cdc",
   "metadata": {},
   "outputs": [
    {
     "name": "stdin",
     "output_type": "stream",
     "text": [
      "inserisi un numero 2\n",
      "inserisci un numero 4\n",
      "inserisci un numero 6\n"
     ]
    },
    {
     "name": "stdout",
     "output_type": "stream",
     "text": [
      "il numero più grande è 6.0\n"
     ]
    }
   ],
   "source": [
    "#1. Scrivi una funzione che restituisca il massimo di tre numeri.\n",
    "num1= float(input(\"inserisi un numero\",))\n",
    "num2= float(input('inserisci un numero',))\n",
    "num3 = float(input('inserisci un numero',))\n",
    "\n",
    "massimo = max(num1,num2,num3)\n",
    "print(r\"il numero più grande è\", massimo)"
   ]
  },
  {
   "cell_type": "markdown",
   "id": "a3fb0667-8528-4598-95e3-86bb1b5503ef",
   "metadata": {},
   "source": [
    "### Esercizio 1 senza max"
   ]
  },
  {
   "cell_type": "code",
   "execution_count": 13,
   "id": "e6a3e737-7869-4674-a4e2-3fd98cac3b7e",
   "metadata": {},
   "outputs": [
    {
     "name": "stdin",
     "output_type": "stream",
     "text": [
      "inserisi un numero 4\n",
      "inserisci un numero 4\n",
      "inserisci un numero 5\n"
     ]
    },
    {
     "data": {
      "text/plain": [
       "5.0"
      ]
     },
     "execution_count": 13,
     "metadata": {},
     "output_type": "execute_result"
    }
   ],
   "source": [
    "def massimo_dei_tre(num1, num2, num3):\n",
    "    return num1 if (num1 >= num2 and num1 >= num3) else (num2 if (num2 >= num1 and num2 >= num3) else num3)\n",
    "num1= float(input(\"inserisi un numero\",))\n",
    "num2= float(input('inserisci un numero',))\n",
    "num3 = float(input('inserisci un numero',))\n",
    "massimo = massimo_dei_tre(num1, num2, num3)\n",
    "massimo"
   ]
  },
  {
   "cell_type": "markdown",
   "id": "42739b2b-65db-4ac2-918f-26585cc1140f",
   "metadata": {},
   "source": [
    "### Esercizio numero 2"
   ]
  },
  {
   "cell_type": "code",
   "execution_count": 2,
   "id": "c2df8b38-1939-4147-b5fa-fafeae01e111",
   "metadata": {},
   "outputs": [
    {
     "name": "stdin",
     "output_type": "stream",
     "text": [
      "Inserisci una temperatura in C°:  30\n"
     ]
    },
    {
     "name": "stdout",
     "output_type": "stream",
     "text": [
      "Conversione:  86.0\n"
     ]
    }
   ],
   "source": [
    "#2. Scrivi una funzione che converta gradi Celsius in Fahrenheit.\n",
    "temp = float(input(\"Inserisci una temperatura in C°: \"))\n",
    "conv = (temp*9/5) + 32\n",
    "print(r\"Conversione: \", conv)\n"
   ]
  },
  {
   "cell_type": "markdown",
   "id": "fd303efd-d086-4a91-8cae-3fa71106143a",
   "metadata": {},
   "source": [
    "### Esercizio numero 3"
   ]
  },
  {
   "cell_type": "code",
   "execution_count": 3,
   "id": "fb90fc04-891b-4deb-8117-0082f20bd8be",
   "metadata": {},
   "outputs": [
    {
     "name": "stdout",
     "output_type": "stream",
     "text": [
      "Lista originale: [1, 2, 3, 4, 2, 3, 5, 6, 6, 7]\n",
      "Lista senza duplicati: [1, 2, 3, 4, 5, 6, 7]\n"
     ]
    }
   ],
   "source": [
    "#3. Scrivi un programma che rimuova i duplicati da una lista.\n",
    "def rimuovi_duplicati(lista):\n",
    "    # Utilizziamo un set per rimuovere i duplicati mantenendo l'ordine originale\n",
    "    lista_senza_duplicati = list(set(lista))\n",
    "    return lista_senza_duplicati\n",
    "\n",
    "# Esempio di utilizzo del programma\n",
    "lista_originale = [1, 2, 3, 4, 2, 3, 5, 6, 6, 7]\n",
    "lista_senza_duplicati = rimuovi_duplicati(lista_originale)\n",
    "print(\"Lista originale:\", lista_originale)\n",
    "print(\"Lista senza duplicati:\", lista_senza_duplicati)\n"
   ]
  },
  {
   "cell_type": "markdown",
   "id": "c6b7eeb6-a53e-4e78-bbb3-adc9e8d33f64",
   "metadata": {},
   "source": [
    "### Esercizio numero 4"
   ]
  },
  {
   "cell_type": "code",
   "execution_count": 9,
   "id": "997b878c-9956-40bc-9b75-250a44f41b69",
   "metadata": {},
   "outputs": [
    {
     "name": "stdout",
     "output_type": "stream",
     "text": [
      "'anna' è un palindromo.\n"
     ]
    }
   ],
   "source": [
    "def verifica_palindromo(parola):\n",
    "    # Confronta la parola data con l'inverso\n",
    "    return parola == parola[::-1]\n",
    "\n",
    "# Esempio di utilizzo della funzione\n",
    "parola = \"anna\"\n",
    "if verifica_palindromo(parola):\n",
    "    print(f\"'{parola}' è un palindromo.\")\n",
    "else:\n",
    "    print(f\"'{parola}' non è un palindromo.\")\n",
    "\n"
   ]
  },
  {
   "cell_type": "markdown",
   "id": "69587755-a378-4999-bdc6-90253b844cd9",
   "metadata": {},
   "source": [
    "### Esercizio numero 5"
   ]
  },
  {
   "cell_type": "code",
   "execution_count": 12,
   "id": "58180b0c-27ee-4d3f-86e4-8cfe17cf5200",
   "metadata": {},
   "outputs": [
    {
     "name": "stdin",
     "output_type": "stream",
     "text": [
      "inserisi un numero 3\n"
     ]
    },
    {
     "name": "stdout",
     "output_type": "stream",
     "text": [
      "Il fattoriale di 3.0 è 6.0.\n"
     ]
    }
   ],
   "source": [
    "#5. Scrivi una funzione che calcoli il fattoriale di un numero.\n",
    "def fattoriale(n):\n",
    "    # Caso base d'esempio ovvero: il fattoriale di 0 è 1\n",
    "    if n == 0:\n",
    "        return 1\n",
    "    # Caso ricorsivo per riportare il risultato: calcoliamo il fattoriale di n moltiplicando n per il fattoriale di n-1\n",
    "    else:\n",
    "        return n * fattoriale(n - 1)\n",
    "\n",
    "# Esempio di utilizzo della funzione\n",
    "numero = float(input(\"inserisi un numero\",))\n",
    "risultato = fattoriale(numero)\n",
    "print(f\"Il fattoriale di {numero} è {risultato}.\")\n"
   ]
  },
  {
   "cell_type": "markdown",
   "id": "e3328acf-0564-48bd-a943-90574ced4833",
   "metadata": {},
   "source": [
    "### Esercizio numero 6"
   ]
  },
  {
   "cell_type": "code",
   "execution_count": null,
   "id": "a49565b6-80c8-4660-8ea5-06b633c868c1",
   "metadata": {},
   "outputs": [],
   "source": [
    "#6. Crea un dizionario da due liste, una che contiene le chiavi e l'altra i valori.\n",
    "def crea_dizionario(lista_chiavi,lista_valori):\n",
    "    \n",
    " "
   ]
  },
  {
   "cell_type": "markdown",
   "id": "b42a9523-2c1b-4b8e-9502-6eeac9720862",
   "metadata": {},
   "source": [
    "### Esercizio numpy"
   ]
  },
  {
   "cell_type": "markdown",
   "id": "9774d5b6-9147-41f1-af16-53347bf27c70",
   "metadata": {},
   "source": [
    "##  Crea un array numpy di dimensione 3x3 con valori casuali.\n"
   ]
  },
  {
   "cell_type": "code",
   "execution_count": 15,
   "id": "4bbb5547-2d53-4af4-862a-988c7519056f",
   "metadata": {},
   "outputs": [
    {
     "data": {
      "text/plain": [
       "array([[0.40704384, 0.0534324 , 0.43564397],\n",
       "       [0.01374164, 0.83837218, 0.32862385],\n",
       "       [0.99081039, 0.10255675, 0.10164513]])"
      ]
     },
     "execution_count": 15,
     "metadata": {},
     "output_type": "execute_result"
    }
   ],
   "source": [
    "#16. Crea un array numpy di dimensione 3x3 con valori casuali.\n",
    "import numpy as np\n",
    "\n",
    "casual_array = np.random.rand(3,3)\n",
    "casual_array"
   ]
  },
  {
   "cell_type": "markdown",
   "id": "5a4dacd8-cc63-4090-b7fb-c0778d1e7907",
   "metadata": {},
   "source": [
    "### Scrivi un programma che calcoli la somma di tutti gli elementi in un array numpy.\n"
   ]
  },
  {
   "cell_type": "code",
   "execution_count": 17,
   "id": "645dc765-3f71-410b-8d41-a8250ab59a64",
   "metadata": {},
   "outputs": [
    {
     "data": {
      "text/plain": [
       "4.7816513464168215"
      ]
     },
     "execution_count": 17,
     "metadata": {},
     "output_type": "execute_result"
    }
   ],
   "source": [
    "# 17. Scrivi un programma che calcoli la somma di tutti gli elementi in un array numpy.\n",
    "import numpy as np\n",
    "\n",
    "casual_array = np.random.rand(3,3)\n",
    "#utilizziamo la funzione .sum()\n",
    "casual_array.sum()"
   ]
  },
  {
   "cell_type": "markdown",
   "id": "9ef4f1eb-8bc8-442f-8555-6db5c06dc694",
   "metadata": {},
   "source": [
    "###  Crea un array numpy e calcolane la media, mediana e varianza.\n"
   ]
  },
  {
   "cell_type": "code",
   "execution_count": 27,
   "id": "b5d3bf22-a5b7-4366-bb0b-d77de755e7bf",
   "metadata": {},
   "outputs": [
    {
     "name": "stdout",
     "output_type": "stream",
     "text": [
      "Media 0.4707873258074728\n",
      "Mediana 0.41983110802579315\n",
      "varianza 0.10881317724756441\n"
     ]
    }
   ],
   "source": [
    "# 18. Crea un array numpy e calcolane la media, mediana e varianza.\n",
    "\n",
    "import numpy as np\n",
    "\n",
    "casual_array = np.random.rand(3,3)\n",
    "media = np.mean(casual_array)\n",
    "mediana= np.median(casual_array)\n",
    "varianza=np.var(casual_array)\n",
    "\n",
    "print('Media',media)\n",
    "print('Mediana',mediana)\n",
    "print('varianza', varianza)\n",
    "\n"
   ]
  },
  {
   "cell_type": "markdown",
   "id": "d2deb71a-6e1d-49d0-928f-3b3fbaca7713",
   "metadata": {},
   "source": [
    "### Scrivi un programma che moltiplichi due matrici numpy.\n"
   ]
  },
  {
   "cell_type": "code",
   "execution_count": 34,
   "id": "9fd7ee99-fdaa-4af1-a752-32ffe1645730",
   "metadata": {},
   "outputs": [
    {
     "data": {
      "text/plain": [
       "0.8496452569246302"
      ]
     },
     "execution_count": 34,
     "metadata": {},
     "output_type": "execute_result"
    }
   ],
   "source": [
    "# 19. Scrivi un programma che moltiplichi due matrici numpy.\n",
    "import numpy as np\n",
    "\n",
    "matrice1 = np.random.rand(5)\n",
    "matrice2 = np.random.rand(5)\n",
    "#np definisce la moltiplicazione tra due matrici avanti lo stesso numero di elenco\n",
    "risultato = np.dot(matrice1,matrice2)\n",
    "risultato\n"
   ]
  },
  {
   "cell_type": "markdown",
   "id": "75687b4a-2d28-46be-8418-0a4efb2d783d",
   "metadata": {},
   "source": [
    "### Crea un array numpy e ordinalo in modo ascendente.\n"
   ]
  },
  {
   "cell_type": "code",
   "execution_count": 35,
   "id": "f477c670-bd25-4343-ad97-cc21082c6bf0",
   "metadata": {},
   "outputs": [
    {
     "data": {
      "text/plain": [
       "array([1, 4, 6, 7, 8, 9])"
      ]
     },
     "execution_count": 35,
     "metadata": {},
     "output_type": "execute_result"
    }
   ],
   "source": [
    "#20. Crea un array numpy e ordinalo in modo ascendente.\n",
    "import numpy as np\n",
    "array_numpy = np.array([6,7,4,1,8,9])\n",
    "#ordiniamoli\n",
    "ordinato = np.sort(array_numpy)\n",
    "ordinato"
   ]
  },
  {
   "cell_type": "markdown",
   "id": "96aebfba-acb7-48cc-b1b0-191569960e95",
   "metadata": {},
   "source": [
    "### Pandas\n"
   ]
  },
  {
   "cell_type": "markdown",
   "id": "04c6f614-d848-4b4d-bce6-eff975f52dc3",
   "metadata": {},
   "source": [
    "###  Crea un DataFrame pandas da un dizionario.\n"
   ]
  },
  {
   "cell_type": "code",
   "execution_count": 36,
   "id": "7237a746-0427-473c-9029-5104076f1c80",
   "metadata": {},
   "outputs": [
    {
     "name": "stderr",
     "output_type": "stream",
     "text": [
      "C:\\Users\\fede1\\anaconda3\\lib\\site-packages\\pandas\\core\\arrays\\masked.py:60: UserWarning: Pandas requires version '1.3.6' or newer of 'bottleneck' (version '1.3.5' currently installed).\n",
      "  from pandas.core import (\n"
     ]
    },
    {
     "data": {
      "text/html": [
       "<div>\n",
       "<style scoped>\n",
       "    .dataframe tbody tr th:only-of-type {\n",
       "        vertical-align: middle;\n",
       "    }\n",
       "\n",
       "    .dataframe tbody tr th {\n",
       "        vertical-align: top;\n",
       "    }\n",
       "\n",
       "    .dataframe thead th {\n",
       "        text-align: right;\n",
       "    }\n",
       "</style>\n",
       "<table border=\"1\" class=\"dataframe\">\n",
       "  <thead>\n",
       "    <tr style=\"text-align: right;\">\n",
       "      <th></th>\n",
       "      <th>Nome</th>\n",
       "      <th>Età</th>\n",
       "      <th>Punteggio</th>\n",
       "    </tr>\n",
       "  </thead>\n",
       "  <tbody>\n",
       "    <tr>\n",
       "      <th>0</th>\n",
       "      <td>Persona1</td>\n",
       "      <td>26</td>\n",
       "      <td>77.969100</td>\n",
       "    </tr>\n",
       "    <tr>\n",
       "      <th>1</th>\n",
       "      <td>Persona2</td>\n",
       "      <td>39</td>\n",
       "      <td>59.685016</td>\n",
       "    </tr>\n",
       "    <tr>\n",
       "      <th>2</th>\n",
       "      <td>Persona3</td>\n",
       "      <td>48</td>\n",
       "      <td>44.583275</td>\n",
       "    </tr>\n",
       "    <tr>\n",
       "      <th>3</th>\n",
       "      <td>Persona4</td>\n",
       "      <td>34</td>\n",
       "      <td>9.997492</td>\n",
       "    </tr>\n",
       "    <tr>\n",
       "      <th>4</th>\n",
       "      <td>Persona5</td>\n",
       "      <td>30</td>\n",
       "      <td>45.924889</td>\n",
       "    </tr>\n",
       "  </tbody>\n",
       "</table>\n",
       "</div>"
      ],
      "text/plain": [
       "       Nome  Età  Punteggio\n",
       "0  Persona1   26  77.969100\n",
       "1  Persona2   39  59.685016\n",
       "2  Persona3   48  44.583275\n",
       "3  Persona4   34   9.997492\n",
       "4  Persona5   30  45.924889"
      ]
     },
     "execution_count": 36,
     "metadata": {},
     "output_type": "execute_result"
    }
   ],
   "source": [
    "#21. Crea un DataFrame pandas da un dizionario.\n",
    "\n",
    "\n",
    "import pandas as pd\n",
    "import numpy as np\n",
    "\n",
    "# Impostare il seed casuale \n",
    "np.random.seed(42)\n",
    "\n",
    "# Creare un dizionario con dati casuali\n",
    "dati = {\n",
    "    'Nome': ['Persona' + str(i) for i in range(1, 6)],\n",
    "    'Età': np.random.randint(20, 50, size=5),\n",
    "    'Punteggio': np.random.uniform(0, 100, size=5)\n",
    "}\n",
    "\n",
    "# Creare il DataFrame\n",
    "df = pd.DataFrame(dati)\n",
    "\n",
    "df\n"
   ]
  },
  {
   "cell_type": "markdown",
   "id": "add229b0-fefc-4562-a609-e7b05c710590",
   "metadata": {},
   "source": [
    "###  Leggi un file CSV in un DataFrame pandas.\n"
   ]
  },
  {
   "cell_type": "code",
   "execution_count": null,
   "id": "0ade6214-3f92-44e1-b22b-13a87448952b",
   "metadata": {},
   "outputs": [],
   "source": [
    "#22. Leggi un file CSV in un DataFrame pandas.\n",
    "import pandas as pd\n",
    "import numpy as np\n",
    "file_name = 'C:\\Users\\fede1\\Untitled Folder 2\\covid19_italy_province _python.csv'\n",
    "dataframe = pd.read_csv(file_name)"
   ]
  }
 ],
 "metadata": {
  "kernelspec": {
   "display_name": "Python 3 (ipykernel)",
   "language": "python",
   "name": "python3"
  },
  "language_info": {
   "codemirror_mode": {
    "name": "ipython",
    "version": 3
   },
   "file_extension": ".py",
   "mimetype": "text/x-python",
   "name": "python",
   "nbconvert_exporter": "python",
   "pygments_lexer": "ipython3",
   "version": "3.10.9"
  }
 },
 "nbformat": 4,
 "nbformat_minor": 5
}
